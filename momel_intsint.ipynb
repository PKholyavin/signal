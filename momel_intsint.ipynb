{
 "cells": [
  {
   "cell_type": "markdown",
   "metadata": {},
   "source": [
    "**Задание для выполнения в классе:** \n",
    "1. Напишите функцию, которая принимает на вход последовательность меток INTSINT, параметры key и range, а возвращает последовательность значений ЧОТ в герцах\n",
    "2. Напишите функцию, которая принимает на вход последовательность ключевых точек (t, h) и общую длительность звука, а возвращает объект PitchTier с шагом 10 мс, где значения интерполированы с помощью квадратичного сплайна\n",
    "\n",
    "https://docs.scipy.org/doc/scipy/reference/generated/scipy.interpolate.interp1d.html"
   ]
  },
  {
   "cell_type": "code",
   "execution_count": null,
   "metadata": {},
   "outputs": [],
   "source": []
  },
  {
   "cell_type": "markdown",
   "metadata": {},
   "source": [
    "**Домашнее задание:** реализовать алгоритм Momel."
   ]
  }
 ],
 "metadata": {
  "language_info": {
   "name": "python"
  }
 },
 "nbformat": 4,
 "nbformat_minor": 2
}
