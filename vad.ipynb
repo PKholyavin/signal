{
 "cells": [
  {
   "cell_type": "markdown",
   "metadata": {},
   "source": [
    "Задание для выполнения в классе:\n",
    "\n",
    "1. Определите паузы в файле cta0003.wav с помощью Praat. Используйте команду To TextGrid (silences)\n",
    "2. Используя разметку на уровне .seg_R2, определите accuracy, HR1 и HR0 (с шагом в 10 мс)"
   ]
  },
  {
   "cell_type": "code",
   "execution_count": null,
   "metadata": {},
   "outputs": [],
   "source": [
    "!wget https://pkholyavin.github.io/signal/cta0003.wav\n",
    "!wget https://pkholyavin.github.io/signal/cta0003.seg_R2"
   ]
  },
  {
   "cell_type": "code",
   "execution_count": null,
   "metadata": {},
   "outputs": [],
   "source": [
    "!pip install praat-parselmouth"
   ]
  },
  {
   "cell_type": "code",
   "execution_count": null,
   "metadata": {},
   "outputs": [],
   "source": [
    "from itertools import product\n",
    "letters = \"GBRY\"\n",
    "nums = \"1234\"\n",
    "levels = [ch + num for num, ch in product(nums, letters)]\n",
    "level_codes = [2 ** i for i in range(len(levels))]\n",
    "code_to_level = {i: j for i, j in zip(level_codes, levels)}\n",
    "level_to_code = {j: i for i, j in zip(level_codes, levels)}\n",
    "\n",
    "\n",
    "def detect_encoding(file_path):\n",
    "    encoding = \"utf-8\"\n",
    "    try:\n",
    "        l = open(file_path, 'r', encoding=\"utf-8\").read()\n",
    "        if l.startswith(\"\\ufeff\"):  # т.н. byte order mark\n",
    "            encoding = \"utf-8-sig\"\n",
    "    except UnicodeDecodeError:\n",
    "        try:\n",
    "            open(file_path, 'r', encoding=\"utf-16\").read()\n",
    "            encoding = \"utf-16\"\n",
    "        except UnicodeError:\n",
    "            encoding = \"cp1251\"\n",
    "    return encoding\n",
    "\n",
    "\n",
    "def read_seg(filename: str, encoding: str = \"utf-8-sig\") -> tuple[dict, list[dict]]:\n",
    "    with open(filename, encoding=encoding) as f:\n",
    "        lines = [line.strip() for line in f.readlines()]\n",
    "\n",
    "    # найдём границы секций в списке строк:\n",
    "    header_start = lines.index(\"[PARAMETERS]\") + 1\n",
    "    data_start = lines.index(\"[LABELS]\") + 1\n",
    "\n",
    "    # прочитаем параметры\n",
    "    params = {}\n",
    "    for line in lines[header_start:data_start - 1]:\n",
    "        key, value = line.split(\"=\")\n",
    "        params[key] = int(value)\n",
    "\n",
    "    # прочитаем метки\n",
    "    labels = []\n",
    "    for line in lines[data_start:]:\n",
    "        # если в строке нет запятых, значит, это не метка и метки закончились\n",
    "        if line.count(\",\") < 2:\n",
    "            break\n",
    "        pos, level, name = line.split(\",\", maxsplit=2)\n",
    "        label = {\n",
    "            \"position\": int(pos) // params[\"BYTE_PER_SAMPLE\"] // params[\"N_CHANNEL\"],\n",
    "            \"level\": code_to_level[int(level)],\n",
    "            \"name\": name\n",
    "        }\n",
    "        labels.append(label)\n",
    "    return params, labels"
   ]
  },
  {
   "cell_type": "code",
   "execution_count": null,
   "metadata": {},
   "outputs": [],
   "source": []
  },
  {
   "cell_type": "markdown",
   "metadata": {},
   "source": [
    "Домашнее задание:\n",
    "\n",
    "Используя данные об интенсивности из Praat, реализуйте алгоритм определения пауз. Проверьте эффективность с разными значениями порога, минимальной длительности пауз и речевых фрагментов."
   ]
  }
 ],
 "metadata": {
  "language_info": {
   "name": "python"
  }
 },
 "nbformat": 4,
 "nbformat_minor": 2
}
