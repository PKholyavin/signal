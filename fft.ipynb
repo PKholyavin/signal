{
 "cells": [
  {
   "cell_type": "markdown",
   "metadata": {},
   "source": [
    "Если вы забыли, как в Python считать спектры сигналов, с тетрадкой можно ознакомиться [здесь](https://colab.research.google.com/github/PKholyavin/mastersprogramming/blob/main/signal_processing.ipynb)."
   ]
  },
  {
   "cell_type": "markdown",
   "metadata": {},
   "source": [
    "Задание 1: вычислить alpha ratio для всех окон в сигнале и построить график."
   ]
  },
  {
   "cell_type": "code",
   "execution_count": null,
   "metadata": {},
   "outputs": [],
   "source": [
    "!wget https://pkholyavin.github.io/mastersprogramming/cta0001.seg_B1\n",
    "!wget https://pkholyavin.github.io/mastersprogramming/cta0001.wav"
   ]
  },
  {
   "cell_type": "code",
   "execution_count": null,
   "metadata": {},
   "outputs": [],
   "source": []
  },
  {
   "cell_type": "markdown",
   "metadata": {},
   "source": [
    "Задание 2: вычислить для каждого звука в [ФПТ](https://drive.google.com/drive/folders/1hKROzJco5KJTG19QMxua91eOQGrZnIAo) центр масс, стандартное отклонение, коэффициент ассиметрии и коэффициент эксцесса (куртозис) и построить графики."
   ]
  },
  {
   "cell_type": "code",
   "execution_count": null,
   "metadata": {},
   "outputs": [],
   "source": []
  }
 ],
 "metadata": {
  "kernelspec": {
   "display_name": "Python 3",
   "language": "python",
   "name": "python3"
  },
  "language_info": {
   "codemirror_mode": {
    "name": "ipython",
    "version": 3
   },
   "file_extension": ".py",
   "mimetype": "text/x-python",
   "name": "python",
   "nbconvert_exporter": "python",
   "pygments_lexer": "ipython3",
   "version": "3.9.0"
  }
 },
 "nbformat": 4,
 "nbformat_minor": 2
}
