{
 "cells": [
  {
   "cell_type": "markdown",
   "metadata": {},
   "source": [
    "**Задание**:\n",
    "\n",
    "1. Создать для файла cta0003.wav файл csv вида\n",
    "```<орфография>;<транскрипция в X-SAMPA>``` на основании .seg_Y1 и .seg_B1\n",
    "2. Использовать сервис [WebMAUS General](https://clarin.phonetik.uni-muenchen.de/BASWebServices/interface/WebMAUSGeneral), чтобы получить выравнивание\n",
    "3. Оценить качество:\n",
    "* среднеквадратическая ошибка\n",
    "* процент совпадений с допустимой ошибкой 10 мс\n",
    "\n",
    "**Домашнее задание**: распространить это на другие файлы корпуса"
   ]
  },
  {
   "cell_type": "code",
   "execution_count": null,
   "metadata": {},
   "outputs": [],
   "source": []
  }
 ],
 "metadata": {
  "language_info": {
   "name": "python"
  }
 },
 "nbformat": 4,
 "nbformat_minor": 2
}
