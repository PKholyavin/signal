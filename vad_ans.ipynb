{
 "cells": [
  {
   "cell_type": "markdown",
   "metadata": {},
   "source": [
    "Задание для выполнения в классе:\n",
    "\n",
    "1. Определите паузы в файле cta0003.wav с помощью Praat. Используйте команду To TextGrid (silences)\n",
    "2. Используя разметку на уровне .seg_R2, определите accuracy, HR1 и HR0 (с шагом в 10 мс)"
   ]
  },
  {
   "cell_type": "code",
   "execution_count": null,
   "metadata": {},
   "outputs": [],
   "source": [
    "!wget https://pkholyavin.github.io/signal/cta0003.wav\n",
    "!wget https://pkholyavin.github.io/signal/cta0003.seg_R2"
   ]
  },
  {
   "cell_type": "code",
   "execution_count": null,
   "metadata": {},
   "outputs": [],
   "source": [
    "!pip install praat-parselmouth"
   ]
  },
  {
   "cell_type": "code",
   "execution_count": 1,
   "metadata": {},
   "outputs": [],
   "source": [
    "from itertools import product\n",
    "letters = \"GBRY\"\n",
    "nums = \"1234\"\n",
    "levels = [ch + num for num, ch in product(nums, letters)]\n",
    "level_codes = [2 ** i for i in range(len(levels))]\n",
    "code_to_level = {i: j for i, j in zip(level_codes, levels)}\n",
    "level_to_code = {j: i for i, j in zip(level_codes, levels)}\n",
    "\n",
    "\n",
    "def detect_encoding(file_path):\n",
    "    encoding = \"utf-8\"\n",
    "    try:\n",
    "        l = open(file_path, 'r', encoding=\"utf-8\").read()\n",
    "        if l.startswith(\"\\ufeff\"):  # т.н. byte order mark\n",
    "            encoding = \"utf-8-sig\"\n",
    "    except UnicodeDecodeError:\n",
    "        try:\n",
    "            open(file_path, 'r', encoding=\"utf-16\").read()\n",
    "            encoding = \"utf-16\"\n",
    "        except UnicodeError:\n",
    "            encoding = \"cp1251\"\n",
    "    return encoding\n",
    "\n",
    "\n",
    "def read_seg(filename: str, encoding: str = \"utf-8-sig\") -> tuple[dict, list[dict]]:\n",
    "    with open(filename, encoding=encoding) as f:\n",
    "        lines = [line.strip() for line in f.readlines()]\n",
    "\n",
    "    # найдём границы секций в списке строк:\n",
    "    header_start = lines.index(\"[PARAMETERS]\") + 1\n",
    "    data_start = lines.index(\"[LABELS]\") + 1\n",
    "\n",
    "    # прочитаем параметры\n",
    "    params = {}\n",
    "    for line in lines[header_start:data_start - 1]:\n",
    "        key, value = line.split(\"=\")\n",
    "        params[key] = int(value)\n",
    "\n",
    "    # прочитаем метки\n",
    "    labels = []\n",
    "    for line in lines[data_start:]:\n",
    "        # если в строке нет запятых, значит, это не метка и метки закончились\n",
    "        if line.count(\",\") < 2:\n",
    "            break\n",
    "        pos, level, name = line.split(\",\", maxsplit=2)\n",
    "        label = {\n",
    "            \"position\": int(pos) // params[\"BYTE_PER_SAMPLE\"] // params[\"N_CHANNEL\"],\n",
    "            \"level\": code_to_level[int(level)],\n",
    "            \"name\": name\n",
    "        }\n",
    "        labels.append(label)\n",
    "    return params, labels"
   ]
  },
  {
   "cell_type": "code",
   "execution_count": 2,
   "metadata": {},
   "outputs": [],
   "source": [
    "params, labels = read_seg(\"cta0003.seg_R2\")"
   ]
  },
  {
   "cell_type": "code",
   "execution_count": 3,
   "metadata": {},
   "outputs": [],
   "source": [
    "import parselmouth"
   ]
  },
  {
   "cell_type": "code",
   "execution_count": 6,
   "metadata": {},
   "outputs": [],
   "source": [
    "sound = parselmouth.Sound(\"cta0003.wav\")\n",
    "silences = parselmouth.praat.call(sound, \"To TextGrid (silences)\", 100, 0, -25, 0.1, 0.1, \"silent\", \"sounding\")"
   ]
  },
  {
   "cell_type": "code",
   "execution_count": 7,
   "metadata": {},
   "outputs": [
    {
     "name": "stdout",
     "output_type": "stream",
     "text": [
      "sounding\n"
     ]
    }
   ],
   "source": [
    "time = 0\n",
    "num = parselmouth.praat.call(silences, \"Get interval at time\", 1, time)\n",
    "label = parselmouth.praat.call(silences, \"Get label of interval\", 1, num)\n",
    "print(label)"
   ]
  },
  {
   "cell_type": "code",
   "execution_count": 11,
   "metadata": {},
   "outputs": [],
   "source": [
    "ground_truth = parselmouth.TextGrid(start_time=0, end_time=silences.xmax, tier_names=[\"silences\"])\n",
    "for i, label in enumerate(labels):\n",
    "    time = label[\"position\"] / params[\"SAMPLING_FREQ\"]\n",
    "    if time:\n",
    "        parselmouth.praat.call(ground_truth, \"Insert boundary\", 1, time)\n",
    "    name = label[\"name\"] if not label[\"name\"].startswith(\"p\") else \"\"\n",
    "    parselmouth.praat.call(ground_truth, \"Set interval text\", 1, i + 1, name)"
   ]
  },
  {
   "cell_type": "code",
   "execution_count": 16,
   "metadata": {},
   "outputs": [],
   "source": [
    "time = 0\n",
    "num_total = 0\n",
    "num_hr1 = 0\n",
    "num_true1 = 0\n",
    "num_true0 = 0\n",
    "num_hr0 = 0\n",
    "while time <= silences.xmax:\n",
    "    num_total += 1\n",
    "    num = parselmouth.praat.call(silences, \"Get interval at time\", 1, time)\n",
    "    label = parselmouth.praat.call(silences, \"Get label of interval\", 1, num)\n",
    "    num = parselmouth.praat.call(ground_truth, \"Get interval at time\", 1, time)\n",
    "    true_label = parselmouth.praat.call(ground_truth, \"Get label of interval\", 1, num)\n",
    "    if label == \"silent\" and not true_label:\n",
    "        num_hr0 += 1\n",
    "    elif label == \"sounding\" and true_label:\n",
    "        num_hr1 += 1\n",
    "    if true_label:\n",
    "        num_true1 += 1\n",
    "    else:\n",
    "        num_true0 += 1\n",
    "    time += 0.01"
   ]
  },
  {
   "cell_type": "code",
   "execution_count": 18,
   "metadata": {},
   "outputs": [
    {
     "name": "stdout",
     "output_type": "stream",
     "text": [
      "HR1 = 0.8894472361809045\n",
      "HR0 = 1.0\n",
      "Accuracy = 0.908256880733945\n"
     ]
    }
   ],
   "source": [
    "print(\"HR1 =\", num_hr1 / num_true1)\n",
    "print(\"HR0 =\", num_hr0 / num_true0)\n",
    "print(\"Accuracy =\", (num_hr0 + num_hr1) / num_total)"
   ]
  }
 ],
 "metadata": {
  "kernelspec": {
   "display_name": "Python 3",
   "language": "python",
   "name": "python3"
  },
  "language_info": {
   "codemirror_mode": {
    "name": "ipython",
    "version": 3
   },
   "file_extension": ".py",
   "mimetype": "text/x-python",
   "name": "python",
   "nbconvert_exporter": "python",
   "pygments_lexer": "ipython3",
   "version": "3.9.0"
  }
 },
 "nbformat": 4,
 "nbformat_minor": 2
}
